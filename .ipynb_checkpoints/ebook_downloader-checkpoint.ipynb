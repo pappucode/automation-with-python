{
 "cells": [
  {
   "cell_type": "code",
   "execution_count": 59,
   "id": "6f102f94",
   "metadata": {},
   "outputs": [],
   "source": [
    "import requests\n",
    "from bs4 import BeautifulSoup as bs\n",
    "headers = {'User-Agent': 'Mozilla/5.0 (Windows NT 10.0; Win64; x64) AppleWebKit/537.36 (KHTML, like Gecko) Chrome/96.0.4664.93 Safari/537.36'}"
   ]
  },
  {
   "cell_type": "code",
   "execution_count": 96,
   "id": "3749d647",
   "metadata": {},
   "outputs": [],
   "source": [
    "#req = requests.get(downloadurl)\n",
    "#req.raise_for_status()\n",
    "#req"
   ]
  },
  {
   "cell_type": "code",
   "execution_count": 60,
   "id": "71689ac3",
   "metadata": {},
   "outputs": [],
   "source": [
    "def download_file(url, filename=''):\n",
    "    try:\n",
    "        if filename:\n",
    "            pass\n",
    "        else:\n",
    "            filename = req.url[downloadurl.rfind('/')+1:]\n",
    "\n",
    "        with requests.get(url, headers=headers) as req:\n",
    "            req.raise_for_status()\n",
    "            with open(filename, 'wb') as f:\n",
    "                for chunk in req.iter_content(chunk_size=8192):\n",
    "                    if chunk:\n",
    "                        f.write(chunk)\n",
    "            return filename\n",
    "    except Exception as e:\n",
    "        print(e)\n",
    "        return None"
   ]
  },
  {
   "cell_type": "code",
   "execution_count": 100,
   "id": "ba40a67e",
   "metadata": {},
   "outputs": [],
   "source": [
    "# this cell use only for testing purpose\n",
    "\n",
    "#r = requests.get(\"https://bdebooks.com/books/ekattor-ebong-amar-baba-by-humayun-ahmed/\")\n",
    "# Convert to a beautiful soup object\n",
    "#soup = bs(r.content)\n",
    "\n",
    "# Print out the html\n",
    "#content = soup.prettify()\n",
    "#print(content)"
   ]
  },
  {
   "cell_type": "code",
   "execution_count": 102,
   "id": "f3a33741",
   "metadata": {},
   "outputs": [],
   "source": [
    "import os\n",
    "\n",
    "def get_all_url(url):\n",
    "    r = requests.get(url)\n",
    "    soup = bs(r.content)\n",
    "    # Grape the title and download link\n",
    "    content = soup.find(class_ = \"content right\")\n",
    "    \n",
    "    content_url = content.find_all(\"blockquote\")\n",
    "    url1 = content_url[0].a['href']\n",
    "    \n",
    "    if url1:\n",
    "        filename = os.path.basename(url1)\n",
    "        download_file(url1, filename)\n",
    "    \n",
    "    else:\n",
    "        print(\"Something Worng\")\n",
    "\n",
    "    #content_url2 = content.select(\".wp-content p strong\")\n",
    "    #url2 = content_url2[0].a['href']\n",
    "    #print(url2)\n",
    "    #content_url3 = content.select(\".wp-content p\")\n",
    "    #url = content_url3[3].a['href']\n",
    "    return\n"
   ]
  },
  {
   "cell_type": "code",
   "execution_count": 105,
   "id": "07db2de6",
   "metadata": {},
   "outputs": [
    {
     "name": "stdout",
     "output_type": "stream",
     "text": [
      "0\n",
      "10\n",
      "Shodh By Taslima Nasrin\n",
      "list index out of range\n"
     ]
    }
   ],
   "source": [
    "r = requests.get(\"https://bdebooks.com/genre/Taslima-Nasrin/\")\n",
    "soup = bs(r.content)\n",
    "links = soup.select(\".items article h3 a\")\n",
    "\n",
    "\n",
    "#books_info_list = []\n",
    "for index, link in enumerate(links):\n",
    "    if index % 10 == 0:\n",
    "        print(index)\n",
    "    try:\n",
    "        relative_path = link['href']\n",
    "        #print(relative_path)\n",
    "        get_all_url(relative_path)\n",
    "      \n",
    "        \n",
    "    except Exception as e:\n",
    "        print(link.get_text())\n",
    "        print(e)"
   ]
  },
  {
   "cell_type": "code",
   "execution_count": 415,
   "id": "df73b227",
   "metadata": {},
   "outputs": [],
   "source": [
    "# Don't Run this cell. It will use for further development \n",
    "\n",
    "#content = soup.find(class_ = \"content right\")\n",
    "\n",
    "#content_row = content.select(\".wp-content p\")\n",
    "\n",
    "#for index, row in enumerate(content_row):\n",
    "    #if index == 5:\n",
    "        #url = content_url[5].a['href']\n",
    "        #content_filename = content.select(\".wp-content p strong\")\n",
    "        #file_name = content_filename[3].text\n",
    "        #download_file(url, file_name+ \".pdf\")\n",
    "    #elif index == 3:\n",
    "        #url = content_url[3].a['href']\n",
    "        #content_filename = content.select(\".wp-content p strong\")\n",
    "        #file_name = content_filename[2].text\n",
    "        #download_file(url, file_name+ \".pdf\")\n",
    "    #elif index == 7:\n",
    "        #url = content_url[7].a['href']\n",
    "        #content_filename = content.select(\".wp-content p strong\")\n",
    "        #file_name = content_filename[4].text\n",
    "        #download_file(url, file_name+ \".pdf\")"
   ]
  },
  {
   "cell_type": "code",
   "execution_count": null,
   "id": "b0ab4ae4",
   "metadata": {},
   "outputs": [],
   "source": []
  },
  {
   "cell_type": "code",
   "execution_count": null,
   "id": "688270c4",
   "metadata": {},
   "outputs": [],
   "source": []
  },
  {
   "cell_type": "code",
   "execution_count": null,
   "id": "b3149808",
   "metadata": {},
   "outputs": [],
   "source": []
  },
  {
   "cell_type": "code",
   "execution_count": null,
   "id": "731b9367",
   "metadata": {},
   "outputs": [],
   "source": []
  },
  {
   "cell_type": "code",
   "execution_count": null,
   "id": "8f73f238",
   "metadata": {},
   "outputs": [],
   "source": []
  },
  {
   "cell_type": "code",
   "execution_count": null,
   "id": "d21af20e",
   "metadata": {},
   "outputs": [],
   "source": []
  },
  {
   "cell_type": "code",
   "execution_count": null,
   "id": "e2ac82f3",
   "metadata": {},
   "outputs": [],
   "source": []
  },
  {
   "cell_type": "code",
   "execution_count": null,
   "id": "afab5c66",
   "metadata": {},
   "outputs": [],
   "source": []
  },
  {
   "cell_type": "code",
   "execution_count": null,
   "id": "94eaf84a",
   "metadata": {},
   "outputs": [],
   "source": []
  },
  {
   "cell_type": "code",
   "execution_count": null,
   "id": "d62571bf",
   "metadata": {},
   "outputs": [],
   "source": []
  },
  {
   "cell_type": "code",
   "execution_count": null,
   "id": "a1ae3134",
   "metadata": {},
   "outputs": [],
   "source": []
  },
  {
   "cell_type": "code",
   "execution_count": null,
   "id": "5ca592a1",
   "metadata": {},
   "outputs": [],
   "source": []
  },
  {
   "cell_type": "code",
   "execution_count": null,
   "id": "6a644878",
   "metadata": {},
   "outputs": [],
   "source": []
  },
  {
   "cell_type": "code",
   "execution_count": null,
   "id": "b9d0aae1",
   "metadata": {},
   "outputs": [],
   "source": []
  },
  {
   "cell_type": "code",
   "execution_count": null,
   "id": "44c24798",
   "metadata": {},
   "outputs": [],
   "source": []
  },
  {
   "cell_type": "code",
   "execution_count": null,
   "id": "78155d8b",
   "metadata": {},
   "outputs": [],
   "source": []
  },
  {
   "cell_type": "code",
   "execution_count": null,
   "id": "50f289fc",
   "metadata": {},
   "outputs": [],
   "source": []
  },
  {
   "cell_type": "code",
   "execution_count": null,
   "id": "3cbd419a",
   "metadata": {},
   "outputs": [],
   "source": []
  },
  {
   "cell_type": "code",
   "execution_count": null,
   "id": "2f38a989",
   "metadata": {},
   "outputs": [],
   "source": []
  },
  {
   "cell_type": "code",
   "execution_count": null,
   "id": "fa4a5af1",
   "metadata": {},
   "outputs": [],
   "source": []
  },
  {
   "cell_type": "code",
   "execution_count": null,
   "id": "5cadef9e",
   "metadata": {},
   "outputs": [],
   "source": []
  },
  {
   "cell_type": "code",
   "execution_count": null,
   "id": "2890709f",
   "metadata": {},
   "outputs": [],
   "source": []
  },
  {
   "cell_type": "code",
   "execution_count": null,
   "id": "8d6e82be",
   "metadata": {},
   "outputs": [],
   "source": []
  },
  {
   "cell_type": "code",
   "execution_count": null,
   "id": "d06e20f3",
   "metadata": {},
   "outputs": [],
   "source": []
  },
  {
   "cell_type": "code",
   "execution_count": null,
   "id": "168d139e",
   "metadata": {},
   "outputs": [],
   "source": []
  },
  {
   "cell_type": "code",
   "execution_count": null,
   "id": "667b55c1",
   "metadata": {},
   "outputs": [],
   "source": []
  },
  {
   "cell_type": "code",
   "execution_count": null,
   "id": "9f5449e8",
   "metadata": {},
   "outputs": [],
   "source": []
  },
  {
   "cell_type": "code",
   "execution_count": null,
   "id": "79d7c653",
   "metadata": {},
   "outputs": [],
   "source": []
  },
  {
   "cell_type": "code",
   "execution_count": null,
   "id": "2185b32c",
   "metadata": {},
   "outputs": [],
   "source": []
  },
  {
   "cell_type": "code",
   "execution_count": null,
   "id": "45d250f7",
   "metadata": {},
   "outputs": [],
   "source": []
  },
  {
   "cell_type": "code",
   "execution_count": null,
   "id": "835f6669",
   "metadata": {},
   "outputs": [],
   "source": []
  },
  {
   "cell_type": "code",
   "execution_count": null,
   "id": "5c853728",
   "metadata": {},
   "outputs": [],
   "source": []
  }
 ],
 "metadata": {
  "kernelspec": {
   "display_name": "Python 3",
   "language": "python",
   "name": "python3"
  },
  "language_info": {
   "codemirror_mode": {
    "name": "ipython",
    "version": 3
   },
   "file_extension": ".py",
   "mimetype": "text/x-python",
   "name": "python",
   "nbconvert_exporter": "python",
   "pygments_lexer": "ipython3",
   "version": "3.8.8"
  }
 },
 "nbformat": 4,
 "nbformat_minor": 5
}
